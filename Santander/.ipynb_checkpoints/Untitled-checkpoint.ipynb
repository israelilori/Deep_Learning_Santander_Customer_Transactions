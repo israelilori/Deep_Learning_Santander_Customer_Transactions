{
 "cells": [
  {
   "cell_type": "code",
   "execution_count": 1,
   "metadata": {},
   "outputs": [
    {
     "name": "stderr",
     "output_type": "stream",
     "text": [
      "Using TensorFlow backend.\n"
     ]
    }
   ],
   "source": [
    "###Importing the neccessary packages \n",
    "from __future__ import print_function\n",
    "import numpy as np\n",
    "from keras.models import Sequential\n",
    "from keras.layers import Dense, Dropout, Activation, Flatten, BatchNormalization\n",
    "from keras.optimizers import *\n",
    "from keras.utils import np_utils\n",
    "import matplotlib.pyplot as plt\n",
    "import pandas as pd\n",
    "from sklearn.preprocessing import StandardScaler\n",
    "from sklearn.model_selection import train_test_split"
   ]
  },
  {
   "cell_type": "code",
   "execution_count": 2,
   "metadata": {},
   "outputs": [],
   "source": [
    "##To read in the train and test sets\n",
    "train = pd.read_csv('train.csv')\n",
    "test = pd.read_csv('test.csv')\n",
    "\n",
    "#Mapping out dataset; Selecting all columns from the 3rd column and all rows \n",
    "X = train.iloc[:,2:].values\n",
    "y = train.iloc[:,1].values\n",
    "test = test.iloc[:,1:].values\n",
    "\n",
    "#Standardizing the data\n",
    "scaler = StandardScaler()\n",
    "\n",
    "X_train, X_test, y_train, y_test = train_test_split(X, y, test_size = 0.25, random_state = 3017)\n",
    "\n",
    "scaler.fit(X_train)\n",
    "X_train_scaled = scaler.transform(X_train)\n",
    "X_test_scaled = scaler.transform(X_test)\n",
    "\n",
    "dim_x_train = X_train_scaled.reshape (X_train_scaled.shape[0],X_train_scaled.shape[1],1)\n",
    "dim_x_test = X_test_scaled.reshape(X_test_scaled.shape[0],X_test_scaled.shape[1],1)"
   ]
  },
  {
   "cell_type": "code",
   "execution_count": 3,
   "metadata": {},
   "outputs": [
    {
     "name": "stdout",
     "output_type": "stream",
     "text": [
      "WARNING:tensorflow:From C:\\Users\\Israel Ilori\\Anaconda3\\lib\\site-packages\\tensorflow\\python\\framework\\op_def_library.py:263: colocate_with (from tensorflow.python.framework.ops) is deprecated and will be removed in a future version.\n",
      "Instructions for updating:\n",
      "Colocations handled automatically by placer.\n",
      "WARNING:tensorflow:From C:\\Users\\Israel Ilori\\Anaconda3\\lib\\site-packages\\keras\\backend\\tensorflow_backend.py:2878: calling dropout (from tensorflow.python.ops.nn_ops) with keep_prob is deprecated and will be removed in a future version.\n",
      "Instructions for updating:\n",
      "Please use `rate` instead of `keep_prob`. Rate should be set to `rate = 1 - keep_prob`.\n",
      "_________________________________________________________________\n",
      "Layer (type)                 Output Shape              Param #   \n",
      "=================================================================\n",
      "dense_1 (Dense)              (None, 128)               25728     \n",
      "_________________________________________________________________\n",
      "activation_1 (Activation)    (None, 128)               0         \n",
      "_________________________________________________________________\n",
      "dropout_1 (Dropout)          (None, 128)               0         \n",
      "_________________________________________________________________\n",
      "dense_2 (Dense)              (None, 128)               16512     \n",
      "_________________________________________________________________\n",
      "activation_2 (Activation)    (None, 128)               0         \n",
      "_________________________________________________________________\n",
      "batch_normalization_1 (Batch (None, 128)               512       \n",
      "_________________________________________________________________\n",
      "dense_3 (Dense)              (None, 128)               16512     \n",
      "_________________________________________________________________\n",
      "activation_3 (Activation)    (None, 128)               0         \n",
      "_________________________________________________________________\n",
      "dense_4 (Dense)              (None, 1)                 129       \n",
      "=================================================================\n",
      "Total params: 59,393\n",
      "Trainable params: 59,137\n",
      "Non-trainable params: 256\n",
      "_________________________________________________________________\n"
     ]
    }
   ],
   "source": [
    "#Initiating the model\n",
    "\n",
    "model = Sequential()\n",
    "\n",
    "N_HIDDEN = 128\n",
    "N_CLASSES = 10\n",
    "adam = Adam(lr = 0.01)\n",
    "P_DROPOUT = 0.3\n",
    "\n",
    "\n",
    "# Hidden layer 1 with 128 hidden units, a dropout of 0.1 and relu activation function\n",
    "model.add(Dense(N_HIDDEN, input_dim=200))\n",
    "model.add(Activation(\"relu\"))\n",
    "model.add(Dropout(P_DROPOUT))\n",
    "\n",
    "# Hidden layer 2 with 128 hidden units, with Batch Normalization and relu activation function\n",
    "model.add(Dense(N_HIDDEN))\n",
    "model.add(Activation(\"relu\"))\n",
    "model.add(BatchNormalization())\n",
    "\n",
    "## Hidden layer 3 with 128 hidden units and relu activation function\n",
    "model.add(Dense(N_HIDDEN))\n",
    "model.add(Activation(\"relu\"))\n",
    "\n",
    "# output layer with 1 unit and sigmoid activation\n",
    "model.add(Dense(1, activation = 'sigmoid'))\n",
    "\n",
    "# Summary of the whole model\n",
    "model.summary()\n",
    "\n",
    "# model compilation\n",
    "model.compile(loss='binary_crossentropy', optimizer=adam, metrics=['accuracy'])\n"
   ]
  },
  {
   "cell_type": "code",
   "execution_count": 4,
   "metadata": {},
   "outputs": [
    {
     "name": "stdout",
     "output_type": "stream",
     "text": [
      "WARNING:tensorflow:From C:\\Users\\Israel Ilori\\Anaconda3\\lib\\site-packages\\tensorflow\\python\\ops\\math_ops.py:3066: to_int32 (from tensorflow.python.ops.math_ops) is deprecated and will be removed in a future version.\n",
      "Instructions for updating:\n",
      "Use tf.cast instead.\n",
      "Train on 120000 samples, validate on 30000 samples\n",
      "Epoch 1/50\n",
      "2s - loss: 0.2563 - acc: 0.9071 - val_loss: 0.2535 - val_acc: 0.9016\n",
      "Epoch 2/50\n",
      "1s - loss: 0.2383 - acc: 0.9110 - val_loss: 0.2432 - val_acc: 0.9148\n",
      "Epoch 3/50\n",
      "1s - loss: 0.2325 - acc: 0.9123 - val_loss: 0.2372 - val_acc: 0.9132\n",
      "Epoch 4/50\n",
      "1s - loss: 0.2293 - acc: 0.9121 - val_loss: 0.2356 - val_acc: 0.9139\n",
      "Epoch 5/50\n",
      "1s - loss: 0.2260 - acc: 0.9129 - val_loss: 0.2355 - val_acc: 0.9149\n",
      "Epoch 6/50\n",
      "1s - loss: 0.2224 - acc: 0.9137 - val_loss: 0.2346 - val_acc: 0.9150\n",
      "Epoch 7/50\n",
      "1s - loss: 0.2198 - acc: 0.9140 - val_loss: 0.2354 - val_acc: 0.9141\n",
      "Epoch 8/50\n",
      "1s - loss: 0.2164 - acc: 0.9153 - val_loss: 0.2407 - val_acc: 0.9136\n",
      "Epoch 9/50\n",
      "1s - loss: 0.2143 - acc: 0.9150 - val_loss: 0.2381 - val_acc: 0.9126\n",
      "Epoch 10/50\n",
      "1s - loss: 0.2119 - acc: 0.9164 - val_loss: 0.2365 - val_acc: 0.9147\n",
      "Epoch 11/50\n",
      "1s - loss: 0.2082 - acc: 0.9171 - val_loss: 0.2415 - val_acc: 0.9146\n",
      "Epoch 12/50\n",
      "1s - loss: 0.2064 - acc: 0.9181 - val_loss: 0.2428 - val_acc: 0.9140\n",
      "Epoch 13/50\n",
      "1s - loss: 0.2030 - acc: 0.9188 - val_loss: 0.2515 - val_acc: 0.9137\n",
      "Epoch 14/50\n",
      "1s - loss: 0.2004 - acc: 0.9198 - val_loss: 0.2525 - val_acc: 0.9134\n",
      "Epoch 15/50\n",
      "1s - loss: 0.1971 - acc: 0.9208 - val_loss: 0.2462 - val_acc: 0.9132\n",
      "Epoch 16/50\n",
      "1s - loss: 0.1948 - acc: 0.9220 - val_loss: 0.2543 - val_acc: 0.9135\n",
      "Epoch 17/50\n",
      "1s - loss: 0.1927 - acc: 0.9226 - val_loss: 0.2542 - val_acc: 0.9139\n",
      "Epoch 18/50\n",
      "1s - loss: 0.1915 - acc: 0.9238 - val_loss: 0.2549 - val_acc: 0.9122\n",
      "Epoch 19/50\n",
      "1s - loss: 0.1889 - acc: 0.9244 - val_loss: 0.2401 - val_acc: 0.9129\n",
      "Epoch 20/50\n",
      "1s - loss: 0.1867 - acc: 0.9251 - val_loss: 0.2536 - val_acc: 0.9124\n",
      "Epoch 21/50\n",
      "1s - loss: 0.1842 - acc: 0.9263 - val_loss: 0.2537 - val_acc: 0.9115\n",
      "Epoch 22/50\n",
      "1s - loss: 0.1825 - acc: 0.9268 - val_loss: 0.2511 - val_acc: 0.9119\n",
      "Epoch 23/50\n",
      "1s - loss: 0.1811 - acc: 0.9279 - val_loss: 0.2626 - val_acc: 0.9117\n",
      "Epoch 24/50\n",
      "1s - loss: 0.1789 - acc: 0.9290 - val_loss: 0.2685 - val_acc: 0.9106\n",
      "Epoch 25/50\n",
      "1s - loss: 0.1765 - acc: 0.9302 - val_loss: 0.2876 - val_acc: 0.9109\n",
      "Epoch 26/50\n",
      "1s - loss: 0.1752 - acc: 0.9307 - val_loss: 0.2688 - val_acc: 0.9112\n",
      "Epoch 27/50\n",
      "1s - loss: 0.1730 - acc: 0.9309 - val_loss: 0.2645 - val_acc: 0.9111\n",
      "Epoch 28/50\n",
      "1s - loss: 0.1724 - acc: 0.9316 - val_loss: 0.2737 - val_acc: 0.9107\n",
      "Epoch 29/50\n",
      "1s - loss: 0.1709 - acc: 0.9326 - val_loss: 0.2831 - val_acc: 0.9107\n",
      "Epoch 30/50\n",
      "1s - loss: 0.1692 - acc: 0.9337 - val_loss: 0.2940 - val_acc: 0.9116\n",
      "Epoch 31/50\n",
      "1s - loss: 0.1690 - acc: 0.9340 - val_loss: 0.3051 - val_acc: 0.9114\n",
      "Epoch 32/50\n",
      "1s - loss: 0.1664 - acc: 0.9351 - val_loss: 0.2914 - val_acc: 0.9102\n",
      "Epoch 33/50\n",
      "1s - loss: 0.1650 - acc: 0.9346 - val_loss: 0.2909 - val_acc: 0.9108\n",
      "Epoch 34/50\n",
      "1s - loss: 0.1655 - acc: 0.9354 - val_loss: 0.3059 - val_acc: 0.9113\n",
      "Epoch 35/50\n",
      "1s - loss: 0.1635 - acc: 0.9353 - val_loss: 0.3041 - val_acc: 0.9117\n",
      "Epoch 36/50\n",
      "1s - loss: 0.1630 - acc: 0.9361 - val_loss: 0.2984 - val_acc: 0.9122\n",
      "Epoch 37/50\n",
      "1s - loss: 0.1596 - acc: 0.9374 - val_loss: 0.3078 - val_acc: 0.9118\n",
      "Epoch 38/50\n",
      "1s - loss: 0.1605 - acc: 0.9371 - val_loss: 0.2939 - val_acc: 0.9120\n",
      "Epoch 39/50\n",
      "1s - loss: 0.1592 - acc: 0.9372 - val_loss: 0.3128 - val_acc: 0.9110\n",
      "Epoch 40/50\n",
      "1s - loss: 0.1580 - acc: 0.9382 - val_loss: 0.3030 - val_acc: 0.9115\n",
      "Epoch 41/50\n",
      "1s - loss: 0.1567 - acc: 0.9387 - val_loss: 0.2799 - val_acc: 0.9117\n",
      "Epoch 42/50\n",
      "1s - loss: 0.1560 - acc: 0.9391 - val_loss: 0.3132 - val_acc: 0.9111\n",
      "Epoch 43/50\n",
      "1s - loss: 0.1549 - acc: 0.9400 - val_loss: 0.3521 - val_acc: 0.9098\n",
      "Epoch 44/50\n",
      "1s - loss: 0.1552 - acc: 0.9401 - val_loss: 0.2844 - val_acc: 0.9116\n",
      "Epoch 45/50\n",
      "1s - loss: 0.1536 - acc: 0.9410 - val_loss: 0.3173 - val_acc: 0.9107\n",
      "Epoch 46/50\n",
      "1s - loss: 0.1520 - acc: 0.9412 - val_loss: 0.3146 - val_acc: 0.9111\n",
      "Epoch 47/50\n",
      "1s - loss: 0.1521 - acc: 0.9404 - val_loss: 0.3170 - val_acc: 0.9113\n",
      "Epoch 48/50\n",
      "1s - loss: 0.1493 - acc: 0.9424 - val_loss: 0.3245 - val_acc: 0.9118\n",
      "Epoch 49/50\n",
      "1s - loss: 0.1482 - acc: 0.9426 - val_loss: 0.2871 - val_acc: 0.9114\n",
      "Epoch 50/50\n",
      "1s - loss: 0.1492 - acc: 0.9427 - val_loss: 0.3134 - val_acc: 0.9116\n"
     ]
    }
   ],
   "source": [
    "#fitting the model on the train set, so the models learns on it\n",
    "history = model.fit(X_train_scaled, y_train, batch_size=256, epochs=50, validation_split=0.2, verbose=2)"
   ]
  },
  {
   "cell_type": "code",
   "execution_count": 5,
   "metadata": {},
   "outputs": [
    {
     "name": "stdout",
     "output_type": "stream",
     "text": [
      "\n",
      "Test score/loss: 0.17154953284849722\n",
      "Test accuracy: 0.93284\n"
     ]
    }
   ],
   "source": [
    "#Evaluating the performance of the model on the training set\n",
    "score = model.evaluate(X_train_scaled, y_train, verbose=2)\n",
    "print(\"\\nTest score/loss:\", score[0])\n",
    "print(\"Test accuracy:\", score[1])"
   ]
  },
  {
   "cell_type": "code",
   "execution_count": 6,
   "metadata": {},
   "outputs": [
    {
     "name": "stdout",
     "output_type": "stream",
     "text": [
      "dict_keys(['val_loss', 'val_acc', 'loss', 'acc'])\n"
     ]
    },
    {
     "data": {
      "image/png": "[encoded data removed]",
      "text/plain": [
       "<Figure size 432x288 with 1 Axes>"
      ]
     },
     "metadata": {
      "needs_background": "light"
     },
     "output_type": "display_data"
    }
   ],
   "source": [
    "#list all data in history\n",
    "print(history.history.keys())\n",
    "\n",
    "#Visualizing  history for accuracy\n",
    "plt.plot(history.history['acc'])\n",
    "plt.plot(history.history['val_acc'])\n",
    "plt.title('model accuracy')\n",
    "plt.ylabel('accuracy')\n",
    "plt.xlabel('epoch')\n",
    "plt.legend(['train', 'test'], loc='upper left')\n",
    "plt.show()"
   ]
  },
  {
   "cell_type": "code",
   "execution_count": 7,
   "metadata": {},
   "outputs": [
    {
     "data": {
      "image/png": "[encoded data removed]",
      "text/plain": [
       "<Figure size 432x288 with 1 Axes>"
      ]
     },
     "metadata": {
      "needs_background": "light"
     },
     "output_type": "display_data"
    }
   ],
   "source": [
    "#Visualize history for loss\n",
    "plt.plot(history.history['loss'])\n",
    "plt.plot(history.history['val_loss'])\n",
    "plt.title('model loss')\n",
    "plt.ylabel('loss')\n",
    "plt.xlabel('epoch')\n",
    "plt.legend(['train', 'test'], loc='upper left')\n",
    "plt.show()"
   ]
  },
  {
   "cell_type": "code",
   "execution_count": 8,
   "metadata": {},
   "outputs": [
    {
     "name": "stdout",
     "output_type": "stream",
     "text": [
      "197728/200000 [============================>.] - ETA: 0s"
     ]
    }
   ],
   "source": [
    "##Predicting on the test set. \n",
    "##Used predict classes so as to get the two distinct classes\n",
    "test2 = pd.read_csv('test.csv')\n",
    "pred_test = test2.iloc[:,1:]\n",
    "\n",
    "ac = scaler.transform(pred_test)\n",
    "#ac_cnn = ac.reshape(pred_test.shape[0],pred_test.shape[1],1)\n",
    "predictions = model.predict_classes(ac)\n",
    "\n",
    "#Save the result to a dataframe\n",
    "ans = pd.DataFrame(predictions)\n",
    "ans = ans[0]\n",
    "test3 = pd.read_csv('test.csv')\n",
    "test_id = test3[\"ID_code\"]"
   ]
  },
  {
   "cell_type": "code",
   "execution_count": 9,
   "metadata": {},
   "outputs": [],
   "source": [
    "#Export to csv to get a report format for customers likely to make transactions\n",
    "sub = pd.DataFrame()\n",
    "sub['ID_code'] = test_id\n",
    "sub['target'] = ans\n",
    "sub.to_csv('result.csv', index=False)\n",
    "\n",
    "df = pd.read_csv('result.csv')"
   ]
  },
  {
   "cell_type": "code",
   "execution_count": 10,
   "metadata": {},
   "outputs": [
    {
     "data": {
      "text/plain": [
       "(4467, 2)"
      ]
     },
     "execution_count": 10,
     "metadata": {},
     "output_type": "execute_result"
    }
   ],
   "source": [
    "#Basic visualization to see the 1st 10 customers\n",
    "#result = df[:, np.where(df['target'] == 1)].values\n",
    "result = df[df['target'] == 1]\n",
    "result.shape"
   ]
  },
  {
   "cell_type": "code",
   "execution_count": 11,
   "metadata": {},
   "outputs": [
    {
     "data": {
      "text/html": [
       "<div>\n",
       "<style scoped>\n",
       "    .dataframe tbody tr th:only-of-type {\n",
       "        vertical-align: middle;\n",
       "    }\n",
       "\n",
       "    .dataframe tbody tr th {\n",
       "        vertical-align: top;\n",
       "    }\n",
       "\n",
       "    .dataframe thead th {\n",
       "        text-align: right;\n",
       "    }\n",
       "</style>\n",
       "<table border=\"1\" class=\"dataframe\">\n",
       "  <thead>\n",
       "    <tr style=\"text-align: right;\">\n",
       "      <th></th>\n",
       "      <th>ID_code</th>\n",
       "      <th>target</th>\n",
       "    </tr>\n",
       "  </thead>\n",
       "  <tbody>\n",
       "    <tr>\n",
       "      <th>73</th>\n",
       "      <td>test_73</td>\n",
       "      <td>1</td>\n",
       "    </tr>\n",
       "    <tr>\n",
       "      <th>84</th>\n",
       "      <td>test_84</td>\n",
       "      <td>1</td>\n",
       "    </tr>\n",
       "    <tr>\n",
       "      <th>121</th>\n",
       "      <td>test_121</td>\n",
       "      <td>1</td>\n",
       "    </tr>\n",
       "    <tr>\n",
       "      <th>217</th>\n",
       "      <td>test_217</td>\n",
       "      <td>1</td>\n",
       "    </tr>\n",
       "    <tr>\n",
       "      <th>297</th>\n",
       "      <td>test_297</td>\n",
       "      <td>1</td>\n",
       "    </tr>\n",
       "    <tr>\n",
       "      <th>355</th>\n",
       "      <td>test_355</td>\n",
       "      <td>1</td>\n",
       "    </tr>\n",
       "    <tr>\n",
       "      <th>383</th>\n",
       "      <td>test_383</td>\n",
       "      <td>1</td>\n",
       "    </tr>\n",
       "    <tr>\n",
       "      <th>413</th>\n",
       "      <td>test_413</td>\n",
       "      <td>1</td>\n",
       "    </tr>\n",
       "    <tr>\n",
       "      <th>431</th>\n",
       "      <td>test_431</td>\n",
       "      <td>1</td>\n",
       "    </tr>\n",
       "    <tr>\n",
       "      <th>478</th>\n",
       "      <td>test_478</td>\n",
       "      <td>1</td>\n",
       "    </tr>\n",
       "  </tbody>\n",
       "</table>\n",
       "</div>"
      ],
      "text/plain": [
       "      ID_code  target\n",
       "73    test_73       1\n",
       "84    test_84       1\n",
       "121  test_121       1\n",
       "217  test_217       1\n",
       "297  test_297       1\n",
       "355  test_355       1\n",
       "383  test_383       1\n",
       "413  test_413       1\n",
       "431  test_431       1\n",
       "478  test_478       1"
      ]
     },
     "execution_count": 11,
     "metadata": {},
     "output_type": "execute_result"
    }
   ],
   "source": [
    "result.head(10)"
   ]
  },
  {
   "cell_type": "code",
   "execution_count": null,
   "metadata": {},
   "outputs": [],
   "source": []
  }
 ],
 "metadata": {
  "kernelspec": {
   "display_name": "Python 3",
   "language": "python",
   "name": "python3"
  },
  "language_info": {
   "codemirror_mode": {
    "name": "ipython",
    "version": 3
   },
   "file_extension": ".py",
   "mimetype": "text/x-python",
   "name": "python",
   "nbconvert_exporter": "python",
   "pygments_lexer": "ipython3",
   "version": "3.7.0"
  }
 },
 "nbformat": 4,
 "nbformat_minor": 2
}
